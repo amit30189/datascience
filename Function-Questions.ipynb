{
 "cells": [
  {
   "cell_type": "markdown",
   "metadata": {
    "id": "VtM_1fUHQZjs"
   },
   "source": [
    "**[Slide No.69]**\n",
    "\n",
    "1. Write a function to print Hello world! ."
   ]
  },
  {
   "cell_type": "code",
   "execution_count": null,
   "metadata": {},
   "outputs": [],
   "source": []
  },
  {
   "cell_type": "markdown",
   "metadata": {
    "id": "AEytpP9-QZnm"
   },
   "source": [
    "**[Slide No. 69]**\n",
    "\n",
    "2. Write a function to print  Hello four times ."
   ]
  },
  {
   "cell_type": "code",
   "execution_count": null,
   "metadata": {},
   "outputs": [],
   "source": []
  },
  {
   "cell_type": "markdown",
   "metadata": {
    "id": "Muh15NjoQZqU"
   },
   "source": [
    "**[Slide No. 69]**\n",
    "\n",
    "3. Write a function to find the diff, add , mul of two numbers."
   ]
  },
  {
   "cell_type": "code",
   "execution_count": null,
   "metadata": {},
   "outputs": [],
   "source": []
  },
  {
   "cell_type": "markdown",
   "metadata": {
    "id": "YxdYhJt_QZso"
   },
   "source": [
    "**[Slide No. 69]**\n",
    "\n",
    " 4. Write the function to find the factorial of a number ."
   ]
  },
  {
   "cell_type": "code",
   "execution_count": null,
   "metadata": {},
   "outputs": [],
   "source": []
  },
  {
   "cell_type": "markdown",
   "metadata": {
    "id": "DSKYQlqEQZwq"
   },
   "source": [
    "**[Slide No. 69]**\n",
    "\n",
    "5. Write a function to find the square of a number "
   ]
  },
  {
   "cell_type": "code",
   "execution_count": null,
   "metadata": {},
   "outputs": [],
   "source": []
  },
  {
   "cell_type": "markdown",
   "metadata": {
    "id": "jUYHpxnoT9Ef"
   },
   "source": [
    "**[Slide No. 69]**\n",
    "\n",
    "6. Write the output of the program \n",
    "\n"
   ]
  },
  {
   "cell_type": "code",
   "execution_count": null,
   "metadata": {},
   "outputs": [],
   "source": []
  },
  {
   "cell_type": "markdown",
   "metadata": {
    "id": "yVUoKQsoV8d_"
   },
   "source": [
    "**[Slide No. 73]**\n",
    "\n",
    "7. Check the output of the program:\n",
    "\n",
    "myAdd = lambda x, y,z: x + y+z\n",
    "\n",
    "print (myAdd(6, 10,15))\n",
    "\n",
    "print (myAdd(7, 20,4))\n",
    "\n",
    "print (type(myAdd))"
   ]
  },
  {
   "cell_type": "code",
   "execution_count": null,
   "metadata": {},
   "outputs": [],
   "source": []
  },
  {
   "cell_type": "markdown",
   "metadata": {
    "id": "LRC5kSgo2uqt"
   },
   "source": [
    "**[Slide No. 73]**\n",
    "\n",
    "8. Write a Python program to create a lambda function that adds 15 to a given number passed in as an argument."
   ]
  },
  {
   "cell_type": "code",
   "execution_count": null,
   "metadata": {},
   "outputs": [],
   "source": []
  },
  {
   "cell_type": "markdown",
   "metadata": {
    "id": "KaRTkOYQ3PYc"
   },
   "source": [
    "**[Slide No. 73]**\n",
    "\n",
    "9. create a lambda function that multiplies argument x with argument y and print the result."
   ]
  },
  {
   "cell_type": "code",
   "execution_count": null,
   "metadata": {
    "id": "AI4cpLZPd-pH"
   },
   "outputs": [],
   "source": []
  }
 ],
 "metadata": {
  "colab": {
   "collapsed_sections": [],
   "name": "Function.ipynb",
   "provenance": []
  },
  "kernelspec": {
   "display_name": "Python 3",
   "language": "python",
   "name": "python3"
  },
  "language_info": {
   "codemirror_mode": {
    "name": "ipython",
    "version": 3
   },
   "file_extension": ".py",
   "mimetype": "text/x-python",
   "name": "python",
   "nbconvert_exporter": "python",
   "pygments_lexer": "ipython3",
   "version": "3.8.8"
  }
 },
 "nbformat": 4,
 "nbformat_minor": 1
}
